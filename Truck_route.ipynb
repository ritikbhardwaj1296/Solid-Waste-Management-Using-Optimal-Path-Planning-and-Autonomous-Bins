{
 "cells": [
  {
   "cell_type": "code",
   "execution_count": 1,
   "id": "52a811d5",
   "metadata": {},
   "outputs": [],
   "source": [
    "import numpy as np, random, operator, pandas as pd\n",
    "import matplotlib.pyplot as plt"
   ]
  },
  {
   "cell_type": "code",
   "execution_count": 2,
   "id": "2ca7efb5",
   "metadata": {},
   "outputs": [],
   "source": [
    "# Create a list of co-ordinates of nodes (co-ordinates are taken from simulator)\n",
    "NodeList = [(5,2.2),(12.5,2.2),(18.2,2.2),(17,8),(0,8),(-10,-5.5),(5,6.1),(-10,2.2),(12.5,-5.5),(5,-12.5)]\n"
   ]
  },
  {
   "cell_type": "code",
   "execution_count": 3,
   "id": "c9db9f25",
   "metadata": {},
   "outputs": [],
   "source": [
    "def create_new_member(lst):\n",
    "    '''\n",
    "    creating new member of the population\n",
    "    '''\n",
    "    pop=set(np.arange(lst,dtype=int))\n",
    "    route=list(random.sample(pop,lst))\n",
    "            \n",
    "    return route"
   ]
  },
  {
   "cell_type": "code",
   "execution_count": 4,
   "id": "680d9400",
   "metadata": {},
   "outputs": [],
   "source": [
    "def create_starting_population(size,Number_of_node):\n",
    "    '''Method create starting population \n",
    "    size= No. of the nodes\n",
    "    Number_of_house= Total No. of the nodes\n",
    "    '''\n",
    "    population = []\n",
    "    \n",
    "    for i in range(0,size):\n",
    "        population.append(create_new_member(Number_of_node))\n",
    "        \n",
    "    return population"
   ]
  },
  {
   "cell_type": "code",
   "execution_count": 5,
   "id": "a88f1f25",
   "metadata": {},
   "outputs": [],
   "source": [
    "def pick_mate(N):\n",
    "    '''mates are randomaly picked \n",
    "    N= no. of node '''\n",
    "    i=random.randint(0,N)    \n",
    "    return i"
   ]
  },
  {
   "cell_type": "code",
   "execution_count": 6,
   "id": "beebb58e",
   "metadata": {},
   "outputs": [],
   "source": [
    "def distance(i,j):\n",
    "    '''\n",
    "    Method calculate distance between two nodes if coordinates are passed\n",
    "    i=(x,y) coordinates of first node\n",
    "    j=(x,y) coordinates of second node\n",
    "    '''\n",
    "    #returning distance of node i and j \n",
    "    return np.sqrt((i[0]-j[0])**2 + (i[1]-j[1])**2)"
   ]
  },
  {
   "cell_type": "code",
   "execution_count": 7,
   "id": "417f7186",
   "metadata": {},
   "outputs": [],
   "source": [
    "def score_population(population, NodeList):  \n",
    "    '''\n",
    "    Score of the whole population is calculated here\n",
    "    population= 2 dimensional array conating all the routes\n",
    "    Nodelist= List of the Houses \n",
    "    '''\n",
    "    scores = []\n",
    "  \n",
    "    for i in population:\n",
    "        scores.append(fitness(i, NodeList))\n",
    "    return scores"
   ]
  },
  {
   "cell_type": "code",
   "execution_count": 8,
   "id": "fafa46c7",
   "metadata": {},
   "outputs": [],
   "source": [
    "def fitness(route,NodeList):\n",
    "    '''Individual fitness of the routes is calculated here\n",
    "    route= 1d array\n",
    "    NodeList = List of the nodes\n",
    "    '''\n",
    "    #Calculate the fitness and return it.\n",
    "    score=0\n",
    "    for i in range(1,len(route)):\n",
    "        k=int(route[i-1])\n",
    "        l=int(route[i])\n",
    "\n",
    "        score = score + distance(NodeList[k],NodeList[l])\n",
    "        \n",
    "        \n",
    "    return score"
   ]
  },
  {
   "cell_type": "code",
   "execution_count": 9,
   "id": "03665ff6",
   "metadata": {},
   "outputs": [],
   "source": [
    "def crossover(a,b):\n",
    "    '''\n",
    "    cross over \n",
    "    a=route1\n",
    "    b=route2\n",
    "    return child\n",
    "    '''\n",
    "    child=[]\n",
    "    childA=[]\n",
    "    childB=[]\n",
    "    \n",
    "    \n",
    "    geneA=int(random.random()* len(a))\n",
    "    geneB=int(random.random()* len(a))\n",
    "    \n",
    "    start_gene=min(geneA,geneB)\n",
    "    end_gene=max(geneA,geneB)\n",
    "    \n",
    "    for i in range(start_gene,end_gene):\n",
    "        childA.append(a[i])\n",
    "        \n",
    "    childB=[item for item in a if item not in childA]\n",
    "    child=childA+childB\n",
    "    \n",
    "    \n",
    "    \n",
    "       \n",
    "    return child"
   ]
  },
  {
   "cell_type": "code",
   "execution_count": 10,
   "id": "ede135df",
   "metadata": {},
   "outputs": [],
   "source": [
    "def mutate(route,probablity):\n",
    "    '''\n",
    "    mutation \n",
    "    route= 1d array\n",
    "    probablity= mutation probablity\n",
    "    '''\n",
    "    #for mutating shuffling of the nodes is used\n",
    "    route=np.array(route)\n",
    "    for swaping_p in range(len(route)):\n",
    "        if(random.random() < probablity):\n",
    "            swapedWith = np.random.randint(0,len(route))\n",
    "            \n",
    "            temp1=route[swaping_p]\n",
    "            \n",
    "            temp2=route[swapedWith]\n",
    "            route[swapedWith]=temp1\n",
    "            route[swaping_p]=temp2\n",
    "    \n",
    "    return route"
   ]
  },
  {
   "cell_type": "code",
   "execution_count": 11,
   "id": "94bac942",
   "metadata": {},
   "outputs": [],
   "source": [
    "def selection(popRanked, eliteSize):\n",
    "    selectionResults=[]\n",
    "    result=[]\n",
    "    for i in popRanked:\n",
    "        result.append(i[0])\n",
    "    for i in range(0,eliteSize):\n",
    "        selectionResults.append(result[i])\n",
    "    \n",
    "    return selectionResults"
   ]
  },
  {
   "cell_type": "code",
   "execution_count": 12,
   "id": "d7550756",
   "metadata": {},
   "outputs": [],
   "source": [
    "def rankRoutes(population,House_List):\n",
    "    fitnessResults = {}\n",
    "    for i in range(0,len(population)):\n",
    "        fitnessResults[i] = fitness(population[i],House_List)\n",
    "    return sorted(fitnessResults.items(), key = operator.itemgetter(1), reverse = False)"
   ]
  },
  {
   "cell_type": "code",
   "execution_count": 13,
   "id": "189af465",
   "metadata": {},
   "outputs": [],
   "source": [
    "def breedPopulation(mating_pool):\n",
    "    children=[]\n",
    "    for i in range(len(mating_pool)-1):\n",
    "            children.append(crossover(mating_pool[i],mating_pool[i+1]))\n",
    "    return children"
   ]
  },
  {
   "cell_type": "code",
   "execution_count": 14,
   "id": "0fad3c5d",
   "metadata": {},
   "outputs": [],
   "source": [
    "def mutatePopulation(children,mutation_rate):\n",
    "    new_generation=[]\n",
    "    for i in children:\n",
    "        muated_child=mutate(i,mutation_rate)\n",
    "        new_generation.append(muated_child)\n",
    "    return new_generation"
   ]
  },
  {
   "cell_type": "code",
   "execution_count": 15,
   "id": "49586db6",
   "metadata": {},
   "outputs": [],
   "source": [
    "def matingPool(population, selectionResults):\n",
    "    matingpool = []\n",
    "    for i in range(0, len(selectionResults)):\n",
    "        index = selectionResults[i]\n",
    "        matingpool.append(population[index])\n",
    "    return matingpool"
   ]
  },
  {
   "cell_type": "code",
   "execution_count": 16,
   "id": "f897f6a7",
   "metadata": {},
   "outputs": [],
   "source": [
    "def next_generation(Node_List,current_population,mutation_rate,elite_size):\n",
    "    population_rank=rankRoutes(current_population,Node_List)\n",
    "    \n",
    "    #print(f\"population rank : {population_rank}\")\n",
    "    \n",
    "    selection_result=selection(population_rank,elite_size)\n",
    "    #print(f\"selection results {selection_result}\")\n",
    "    \n",
    "    mating_pool=matingPool(current_population,selection_result)\n",
    "    #print(f\"mating pool {mating_pool}\")\n",
    "    \n",
    "    children=breedPopulation(mating_pool)\n",
    "    #print(f\"childern {children}\")\n",
    "    \n",
    "    next_generation=mutatePopulation(children,mutation_rate)\n",
    "    #print(f\"next_generation {next_generation}\")\n",
    "    return next_generation"
   ]
  },
  {
   "cell_type": "code",
   "execution_count": 17,
   "id": "721b7917",
   "metadata": {},
   "outputs": [],
   "source": [
    "def genetic_algorithm(Node_List,size_population=1000,elite_size=75,mutation_Rate=0.1,generation=2000):\n",
    "    '''size_population = 1000(default) Size of population\n",
    "        elite_size = 75 (default) No. of best route to choose\n",
    "        mutation_Rate = 0.1 (default) probablity of Mutation rate [0,1]\n",
    "        generation = 2000 (default) No. of generation  \n",
    "    '''\n",
    "    pop=[]\n",
    "    progress = []\n",
    "    \n",
    "    Number_of_Nodes=len(Node_List)\n",
    "    \n",
    "    population=create_starting_population(size_population,Number_of_Nodes)\n",
    "    progress.append(rankRoutes(population,Node_List)[0][1])\n",
    "    int_pop = population[0]\n",
    "    print(f\"initial route distance {progress[0]}\")\n",
    "    for i in range(0,generation):\n",
    "        pop = next_generation(Node_List,population,mutation_Rate,elite_size)\n",
    "        progress.append(rankRoutes(pop,Node_List)[0][1])  \n",
    "    \n",
    "    rank_=rankRoutes(pop,Node_List)[0]\n",
    "    int_pop.append(50)\n",
    "    print(f\"initial route {int_pop}\")\n",
    "    # Here 50  denotes the initial position of truck.\n",
    "    bst_rout = pop[rank_[0]]\n",
    "    fstb_rout = 50\n",
    "    bst_lst = []\n",
    "    for k in range(0, len(bst_rout)):\n",
    "        bst_lst.append(bst_rout[k])\n",
    "    bst_lst.append(50)\n",
    "    print(f\"Best Route :{bst_lst} \")\n",
    "    print(f\"best route distance {rank_[1]}\")\n",
    "    plt.plot(progress)\n",
    "    plt.ylabel('Distance')\n",
    "    plt.xlabel('Generation')\n",
    "    plt.show()\n",
    "    \n",
    "    return rank_, pop"
   ]
  },
  {
   "cell_type": "code",
   "execution_count": 18,
   "id": "41811a01",
   "metadata": {},
   "outputs": [
    {
     "name": "stdout",
     "output_type": "stream",
     "text": [
      "initial route distance 91.51325808538651\n",
      "initial route [4, 6, 2, 3, 7, 5, 1, 8, 0, 9, 50]\n",
      "Best Route :[3, 1, 2, 8, 9, 5, 4, 6, 0, 7, 50] \n",
      "best route distance 90.4823856366176\n"
     ]
    },
    {
     "data": {
      "image/png": "[encoded data removed]",
      "text/plain": [
       "<Figure size 432x288 with 1 Axes>"
      ]
     },
     "metadata": {
      "needs_background": "light"
     },
     "output_type": "display_data"
    }
   ],
   "source": [
    "rank_,pop=genetic_algorithm(Node_List=NodeList)"
   ]
  },
  {
   "cell_type": "code",
   "execution_count": 19,
   "id": "d3938924",
   "metadata": {},
   "outputs": [],
   "source": [
    "x_axis=[]\n",
    "y_axis=[]\n",
    "for i in NodeList:\n",
    "    x_axis.append(i[0])\n",
    "    y_axis.append(i[1])"
   ]
  },
  {
   "cell_type": "code",
   "execution_count": 20,
   "id": "b4a30242",
   "metadata": {},
   "outputs": [
    {
     "data": {
      "image/png": "[encoded data removed]",
      "text/plain": [
       "<Figure size 432x288 with 1 Axes>"
      ]
     },
     "metadata": {
      "needs_background": "light"
     },
     "output_type": "display_data"
    }
   ],
   "source": [
    "plt.scatter(x_axis,y_axis)\n",
    "plt.show()\n"
   ]
  },
  {
   "cell_type": "code",
   "execution_count": null,
   "id": "59a32809",
   "metadata": {},
   "outputs": [],
   "source": []
  }
 ],
 "metadata": {
  "kernelspec": {
   "display_name": "Python 3",
   "language": "python",
   "name": "python3"
  },
  "language_info": {
   "codemirror_mode": {
    "name": "ipython",
    "version": 3
   },
   "file_extension": ".py",
   "mimetype": "text/x-python",
   "name": "python",
   "nbconvert_exporter": "python",
   "pygments_lexer": "ipython3",
   "version": "3.8.8"
  }
 },
 "nbformat": 4,
 "nbformat_minor": 5
}
