{
 "cells": [
  {
   "cell_type": "code",
   "execution_count": 1,
   "id": "058c1451",
   "metadata": {},
   "outputs": [],
   "source": [
    "import numpy as np, random, operator, pandas as pd\n",
    "import matplotlib.pyplot as plt"
   ]
  },
  {
   "cell_type": "code",
   "execution_count": 2,
   "id": "e3dc4027",
   "metadata": {},
   "outputs": [],
   "source": [
    "# Creating the list of houses (nodes are taken from simulator)\n",
    "HouseList = [(3,1.5), (4.25,1), (-3, 1.8), (-3, -1), (-6, -2.8), (-6, -1.9), (-6, 1.8), (-4.1, 1.8), (0,0), (0,1), (1, -2), (-3, 1), (-1, 1.8), (-6, 1.75), (-1, -2.5)]\n"
   ]
  },
  {
   "cell_type": "code",
   "execution_count": 3,
   "id": "f871386b",
   "metadata": {},
   "outputs": [
    {
     "data": {
      "text/plain": [
       "9"
      ]
     },
     "execution_count": 3,
     "metadata": {},
     "output_type": "execute_result"
    }
   ],
   "source": [
    "# Randomly finding the number of houses from where waste is to be collected\n",
    "Number_of_houses = len(HouseList)\n",
    "Number_of_nodes = np.random.randint(0, Number_of_houses)\n",
    "Number_of_nodes"
   ]
  },
  {
   "cell_type": "code",
   "execution_count": 4,
   "id": "61df17ce",
   "metadata": {},
   "outputs": [
    {
     "data": {
      "text/plain": [
       "{0, 1, 2, 3, 4, 5, 6, 7, 8, 9, 10, 11, 12, 13, 14}"
      ]
     },
     "execution_count": 4,
     "metadata": {},
     "output_type": "execute_result"
    }
   ],
   "source": [
    "# Set of nodes of houses\n",
    "pop1 = set(np.arange(Number_of_houses))\n",
    "pop1"
   ]
  },
  {
   "cell_type": "code",
   "execution_count": 5,
   "id": "217bea20",
   "metadata": {},
   "outputs": [
    {
     "data": {
      "text/plain": [
       "[8, 4, 2, 1, 14, 7, 3, 11, 5]"
      ]
     },
     "execution_count": 5,
     "metadata": {},
     "output_type": "execute_result"
    }
   ],
   "source": [
    "# Creating a list of nodes of those houses from where the waste is to be collected\n",
    "lst1 = list(random.sample(pop1, Number_of_nodes))\n",
    "lst1"
   ]
  },
  {
   "cell_type": "code",
   "execution_count": 6,
   "id": "1a2b3e7d",
   "metadata": {},
   "outputs": [],
   "source": [
    "def create_new_member(lst):\n",
    "    '''\n",
    "    creating new member of the population\n",
    "    '''\n",
    "    route=list(random.sample(lst,Number_of_nodes))\n",
    "            \n",
    "    return route"
   ]
  },
  {
   "cell_type": "code",
   "execution_count": 7,
   "id": "b0207b31",
   "metadata": {},
   "outputs": [],
   "source": [
    "def create_starting_population(size,Number_of_houses):\n",
    "    '''Method create starting population \n",
    "    size= No. of the house\n",
    "    Number_of_house= Total No. of the houses\n",
    "    '''\n",
    "    population = []\n",
    "    \n",
    "    for i in range(0,size):\n",
    "        population.append(create_new_member(lst1))\n",
    "        \n",
    "    return population"
   ]
  },
  {
   "cell_type": "code",
   "execution_count": 8,
   "id": "ef6acfc3",
   "metadata": {},
   "outputs": [],
   "source": [
    "def pick_mate(N):\n",
    "    '''mates are randomaly picked \n",
    "    N= no. of House '''\n",
    "    i=random.randint(0,N)    \n",
    "    return i"
   ]
  },
  {
   "cell_type": "code",
   "execution_count": 9,
   "id": "19a2eb71",
   "metadata": {},
   "outputs": [],
   "source": [
    "def distance(i,j):\n",
    "    '''\n",
    "    Method calculate distance between two cities if coordinates are passed\n",
    "    i=(x,y) coordinates of first house\n",
    "    j=(x,y) coordinates of second house\n",
    "    '''\n",
    "    #returning distance of house i and j \n",
    "    return np.sqrt((i[0]-j[0])**2 + (i[1]-j[1])**2)"
   ]
  },
  {
   "cell_type": "code",
   "execution_count": 10,
   "id": "e4f98a27",
   "metadata": {},
   "outputs": [],
   "source": [
    "def score_population(population, HouseList):  \n",
    "    '''\n",
    "    Score of the whole population is calculated here\n",
    "    population= 2 dimensional array conating all the routes\n",
    "    Houselist= List of the Houses \n",
    "    '''\n",
    "    scores = []\n",
    "  \n",
    "    for i in population:\n",
    "        scores.append(fitness(i, HouseList))\n",
    "    return scores"
   ]
  },
  {
   "cell_type": "code",
   "execution_count": 11,
   "id": "c25bb8bf",
   "metadata": {},
   "outputs": [],
   "source": [
    "def fitness(route,HouseList):\n",
    "    '''Individual fitness of the routes is calculated here\n",
    "    route= 1d array\n",
    "    HouseList = List of the houses\n",
    "    '''\n",
    "    #Calculate the fitness and return it.\n",
    "    score=0\n",
    "    #N_=len(route)\n",
    "    for i in range(1,len(route)):\n",
    "        k=int(route[i-1])\n",
    "        l=int(route[i])\n",
    "\n",
    "        score = score + distance(HouseList[k],HouseList[l])\n",
    "        \n",
    "        \n",
    "    return score"
   ]
  },
  {
   "cell_type": "code",
   "execution_count": 12,
   "id": "e2c45fd4",
   "metadata": {},
   "outputs": [],
   "source": [
    "def crossover(a,b):\n",
    "    '''\n",
    "    cross over \n",
    "    a=route1\n",
    "    b=route2\n",
    "    return child\n",
    "    '''\n",
    "    child=[]\n",
    "    childA=[]\n",
    "    childB=[]\n",
    "    \n",
    "    \n",
    "    geneA=int(random.random()* len(a))\n",
    "    geneB=int(random.random()* len(a))\n",
    "    \n",
    "    start_gene=min(geneA,geneB)\n",
    "    end_gene=max(geneA,geneB)\n",
    "    \n",
    "    for i in range(start_gene,end_gene):\n",
    "        childA.append(a[i])\n",
    "        \n",
    "    childB=[item for item in a if item not in childA]\n",
    "    child=childA+childB\n",
    "    \n",
    "    \n",
    "    \n",
    "       \n",
    "    return child"
   ]
  },
  {
   "cell_type": "code",
   "execution_count": 13,
   "id": "128b5b3b",
   "metadata": {},
   "outputs": [],
   "source": [
    "def mutate(route,probablity):\n",
    "    '''\n",
    "    mutation \n",
    "    route= 1d array\n",
    "    probablity= mutation probablity\n",
    "    '''\n",
    "    #for mutating shuffling of the nodes is used\n",
    "    route=np.array(route)\n",
    "    for swaping_p in range(len(route)):\n",
    "        if(random.random() < probablity):\n",
    "            swapedWith = np.random.randint(0,len(route))\n",
    "            \n",
    "            temp1=route[swaping_p]\n",
    "            \n",
    "            temp2=route[swapedWith]\n",
    "            route[swapedWith]=temp1\n",
    "            route[swaping_p]=temp2\n",
    "    \n",
    "    return route"
   ]
  },
  {
   "cell_type": "code",
   "execution_count": 14,
   "id": "10e2a03c",
   "metadata": {},
   "outputs": [],
   "source": [
    "def selection(popRanked, eliteSize):\n",
    "    selectionResults=[]\n",
    "    result=[]\n",
    "    for i in popRanked:\n",
    "        result.append(i[0])\n",
    "    for i in range(0,eliteSize):\n",
    "        selectionResults.append(result[i])\n",
    "    \n",
    "    return selectionResults"
   ]
  },
  {
   "cell_type": "code",
   "execution_count": 15,
   "id": "f69cfcbc",
   "metadata": {},
   "outputs": [],
   "source": [
    "def rankRoutes(population,House_List):\n",
    "    fitnessResults = {}\n",
    "    for i in range(0,len(population)):\n",
    "        fitnessResults[i] = fitness(population[i],House_List)\n",
    "    return sorted(fitnessResults.items(), key = operator.itemgetter(1), reverse = False)"
   ]
  },
  {
   "cell_type": "code",
   "execution_count": 16,
   "id": "af4aa011",
   "metadata": {},
   "outputs": [],
   "source": [
    "def breedPopulation(mating_pool):\n",
    "    children=[]\n",
    "    for i in range(len(mating_pool)-1):\n",
    "            children.append(crossover(mating_pool[i],mating_pool[i+1]))\n",
    "    return children"
   ]
  },
  {
   "cell_type": "code",
   "execution_count": 17,
   "id": "f549a7ea",
   "metadata": {},
   "outputs": [],
   "source": [
    "def mutatePopulation(children,mutation_rate):\n",
    "    new_generation=[]\n",
    "    for i in children:\n",
    "        muated_child=mutate(i,mutation_rate)\n",
    "        new_generation.append(muated_child)\n",
    "    return new_generation"
   ]
  },
  {
   "cell_type": "code",
   "execution_count": 18,
   "id": "505581e5",
   "metadata": {},
   "outputs": [],
   "source": [
    "def matingPool(population, selectionResults):\n",
    "    matingpool = []\n",
    "    for i in range(0, len(selectionResults)):\n",
    "        index = selectionResults[i]\n",
    "        matingpool.append(population[index])\n",
    "    return matingpool"
   ]
  },
  {
   "cell_type": "code",
   "execution_count": 19,
   "id": "cd73b148",
   "metadata": {},
   "outputs": [],
   "source": [
    "def next_generation(House_List,current_population,mutation_rate,elite_size):\n",
    "    population_rank=rankRoutes(current_population,House_List)\n",
    "    \n",
    "    #print(f\"population rank : {population_rank}\")\n",
    "    \n",
    "    selection_result=selection(population_rank,elite_size)\n",
    "    #print(f\"selection results {selection_result}\")\n",
    "    \n",
    "    mating_pool=matingPool(current_population,selection_result)\n",
    "    #print(f\"mating pool {mating_pool}\")\n",
    "    \n",
    "    children=breedPopulation(mating_pool)\n",
    "    #print(f\"childern {children}\")\n",
    "    \n",
    "    next_generation=mutatePopulation(children,mutation_rate)\n",
    "    #print(f\"next_generation {next_generation}\")\n",
    "    return next_generation"
   ]
  },
  {
   "cell_type": "code",
   "execution_count": 20,
   "id": "d6507731",
   "metadata": {},
   "outputs": [],
   "source": [
    "def genetic_algorithm(House_List,size_population=1000,elite_size=75,mutation_Rate=0.1,generation=2000):\n",
    "    '''size_population = 1000(default) Size of population\n",
    "        elite_size = 75 (default) No. of best route to choose\n",
    "        mutation_Rate = 0.1 (default) probablity of Mutation rate [0,1]\n",
    "        generation = 2000 (default) No. of generation  \n",
    "    '''\n",
    "    pop=[]\n",
    "    progress = []\n",
    "    \n",
    "    Number_of_Houses=len(House_List)\n",
    "    \n",
    "    population=create_starting_population(size_population,Number_of_Houses)\n",
    "    progress.append(rankRoutes(population,House_List)[0][1])\n",
    "    int_pop = population[0]\n",
    "    print(f\"initial route distance {progress[0]}\")\n",
    "    for i in range(0,generation):\n",
    "        pop = next_generation(House_List,population,mutation_Rate,elite_size)\n",
    "        progress.append(rankRoutes(pop,House_List)[0][1])  \n",
    "    \n",
    "    rank_=rankRoutes(pop,House_List)[0]\n",
    "    # Here 100 denotes the point where dustbin meets the truck\n",
    "    # 50 means the initial position of the dustbin\n",
    "    for i in range (0, 2):\n",
    "        x = [100, 50]\n",
    "        int_pop.append(x[i])\n",
    "    print(f\"initial route {int_pop}\")\n",
    "    bst_rout = pop[rank_[0]]\n",
    "    fstb_rout = bst_rout[0]\n",
    "    bst_lst = []\n",
    "    for k in range(0, len(bst_rout)):\n",
    "        bst_lst.append(bst_rout[k])\n",
    "    for j in range(0, 2):\n",
    "        y = [100, 50]\n",
    "        bst_lst.append(y[j])\n",
    "    print(f\"Best Route :{bst_lst} \")\n",
    "    print(f\"best route distance {rank_[1]}\")\n",
    "    plt.plot(progress)\n",
    "    plt.ylabel('Distance')\n",
    "    plt.xlabel('Generation')\n",
    "    plt.show()\n",
    "    \n",
    "    return rank_, pop"
   ]
  },
  {
   "cell_type": "code",
   "execution_count": 24,
   "id": "e3d1fd49",
   "metadata": {},
   "outputs": [
    {
     "name": "stdout",
     "output_type": "stream",
     "text": [
      "initial route distance 23.66736289049122\n",
      "initial route [4, 3, 14, 2, 11, 5, 8, 1, 7, 100, 50]\n",
      "Best Route :[1, 8, 14, 7, 11, 2, 3, 4, 5, 100, 50] \n",
      "best route distance 21.71830620277065\n"
     ]
    },
    {
     "data": {
      "image/png": "[encoded data removed]",
      "text/plain": [
       "<Figure size 432x288 with 1 Axes>"
      ]
     },
     "metadata": {
      "needs_background": "light"
     },
     "output_type": "display_data"
    }
   ],
   "source": [
    "rank_,pop=genetic_algorithm(House_List=HouseList)"
   ]
  },
  {
   "cell_type": "code",
   "execution_count": 25,
   "id": "5aedfeec",
   "metadata": {},
   "outputs": [],
   "source": [
    "x_axis=[]\n",
    "y_axis=[]\n",
    "for i in HouseList:\n",
    "    x_axis.append(i[0])\n",
    "    y_axis.append(i[1])"
   ]
  },
  {
   "cell_type": "code",
   "execution_count": 26,
   "id": "02fa1b5c",
   "metadata": {},
   "outputs": [
    {
     "data": {
      "image/png": "[encoded data removed]",
      "text/plain": [
       "<Figure size 432x288 with 1 Axes>"
      ]
     },
     "metadata": {
      "needs_background": "light"
     },
     "output_type": "display_data"
    }
   ],
   "source": [
    "plt.scatter(x_axis,y_axis)\n",
    "plt.show()\n"
   ]
  },
  {
   "cell_type": "code",
   "execution_count": null,
   "id": "81fe2821",
   "metadata": {},
   "outputs": [],
   "source": []
  }
 ],
 "metadata": {
  "kernelspec": {
   "display_name": "Python 3",
   "language": "python",
   "name": "python3"
  },
  "language_info": {
   "codemirror_mode": {
    "name": "ipython",
    "version": 3
   },
   "file_extension": ".py",
   "mimetype": "text/x-python",
   "name": "python",
   "nbconvert_exporter": "python",
   "pygments_lexer": "ipython3",
   "version": "3.8.8"
  }
 },
 "nbformat": 4,
 "nbformat_minor": 5
}
